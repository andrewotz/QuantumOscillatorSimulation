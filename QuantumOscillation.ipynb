{
 "cells": [
  {
   "metadata": {},
   "cell_type": "markdown",
   "source": [
    "# This is a sample Jupyter Notebook\n",
    "\n",
    "Below is an example of a code cell. \n",
    "Put your cursor into the cell and press Shift+Enter to execute it and select the next one, or click !here goes the icon of the corresponding button in the gutter! button.\n",
    "To debug a cell, press Alt+Shift+Enter, or click !here goes the icon of the corresponding button in the gutter! button.\n",
    "\n",
    "Press Double Shift to search everywhere for classes, files, tool windows, actions, and settings.\n",
    "\n",
    "To learn more about Jupyter Notebooks in PyCharm, see [help](https://www.jetbrains.com/help/pycharm/jupyter-notebook-support.html).\n",
    "For an overview of PyCharm, go to Help -> Learn IDE features or refer to [our documentation](https://www.jetbrains.com/help/pycharm/getting-started.html)."
   ],
   "id": "8a77807f92f26ee"
  },
  {
   "metadata": {
    "ExecuteTime": {
     "end_time": "2025-02-18T19:21:48.365295Z",
     "start_time": "2025-02-18T19:21:48.270852Z"
    }
   },
   "cell_type": "code",
   "source": [
    "import numpy as np\n",
    "import matplotlib.pyplot as plt\n",
    "from ipywidgets import interact, IntSlider, FloatSlider\n",
    "import math  # Use Python's built-in math module for factorial\n",
    "\n",
    "# Constants\n",
    "hbar = 1.0  # Reduced Planck's constant\n",
    "m = 1.0     # Mass of the particle\n",
    "omega = 1.0 # Angular frequency of the harmonic oscillator\n",
    "\n",
    "# Hermite polynomial function\n",
    "def hermite(n, x):\n",
    "    if n == 0:\n",
    "        return 1\n",
    "    elif n == 1:\n",
    "        return 2 * x\n",
    "    else:\n",
    "        return 2 * x * hermite(n - 1, x) - 2 * (n - 1) * hermite(n - 2, x)\n",
    "\n",
    "# Wavefunction of the quantum harmonic oscillator\n",
    "def wavefunction(n, x):\n",
    "    # Normalization constant\n",
    "    N_n = (m * omega / (np.pi * hbar)) ** 0.25 / np.sqrt(2**n * math.factorial(n))  # Use math.factorial\n",
    "    # Hermite polynomial\n",
    "    H_n = hermite(n, np.sqrt(m * omega / hbar) * x)\n",
    "    # Gaussian term\n",
    "    gaussian = np.exp(-m * omega * x**2 / (2 * hbar))\n",
    "    return N_n * H_n * gaussian\n",
    "\n",
    "# Potential energy function\n",
    "def potential(x):\n",
    "    return 0.5 * m * omega**2 * x**2\n",
    "\n",
    "# Interactive plot function\n",
    "def plot_quantum_harmonic_oscillator(n=0, width=5.0):\n",
    "    # Create x-axis\n",
    "    x = np.linspace(-width, width, 1000)\n",
    "    \n",
    "    # Calculate wavefunction and probability density\n",
    "    psi_n = wavefunction(n, x)\n",
    "    prob_density = np.abs(psi_n)**2\n",
    "    \n",
    "    # Calculate energy level\n",
    "    E_n = hbar * omega * (n + 0.5)\n",
    "    \n",
    "    # Plot the wavefunction, probability density, and potential\n",
    "    plt.figure(figsize=(10, 6))\n",
    "    \n",
    "    # Wavefunction\n",
    "    plt.plot(x, psi_n, label=rf'$\\psi_{n}(x)$', color='blue')  # Use raw string (r'...')\n",
    "    \n",
    "    # Probability density\n",
    "    plt.plot(x, prob_density, label=rf'$|\\psi_{n}(x)|^2$', color='red', linestyle='--')  # Use raw string (r'...')\n",
    "    \n",
    "    # Potential energy\n",
    "    plt.plot(x, potential(x), label='Potential $V(x)$', color='black', linestyle=':')\n",
    "    \n",
    "    # Energy level\n",
    "    plt.axhline(E_n, color='green', linestyle='-.', label=rf'$E_{n} = {E_n:.2f}$')  # Use raw string (r'...')\n",
    "    \n",
    "    # Plot settings\n",
    "    plt.title(f'Quantum Harmonic Oscillator (n = {n})')\n",
    "    plt.xlabel('Position $x$')\n",
    "    plt.ylabel('Wavefunction / Probability Density')\n",
    "    plt.ylim(-1.5, 1.5)\n",
    "    plt.legend()\n",
    "    plt.grid(True)\n",
    "    plt.show()\n",
    "\n",
    "# Interactive sliders\n",
    "interact(plot_quantum_harmonic_oscillator,\n",
    "         n=IntSlider(min=0, max=10, step=1, value=0, description='Quantum Number $n$'),\n",
    "         width=FloatSlider(min=1.0, max=10.0, step=0.5, value=5.0, description='Width $L$'));"
   ],
   "id": "fbc121e30a2defb3",
   "outputs": [
    {
     "data": {
      "text/plain": [
       "interactive(children=(IntSlider(value=0, description='Quantum Number $n$', max=10), FloatSlider(value=5.0, des…"
      ],
      "application/vnd.jupyter.widget-view+json": {
       "version_major": 2,
       "version_minor": 0,
       "model_id": "b2cd4c2c964b4e2bb7b2b0c1a9953bd2"
      }
     },
     "metadata": {},
     "output_type": "display_data"
    }
   ],
   "execution_count": 4
  },
  {
   "metadata": {},
   "cell_type": "code",
   "outputs": [],
   "execution_count": null,
   "source": "",
   "id": "2454c064f3d47f15"
  }
 ],
 "metadata": {
  "kernelspec": {
   "display_name": "Python 3",
   "language": "python",
   "name": "python3"
  },
  "language_info": {
   "codemirror_mode": {
    "name": "ipython",
    "version": 2
   },
   "file_extension": ".py",
   "mimetype": "text/x-python",
   "name": "python",
   "nbconvert_exporter": "python",
   "pygments_lexer": "ipython2",
   "version": "2.7.6"
  }
 },
 "nbformat": 4,
 "nbformat_minor": 5
}
